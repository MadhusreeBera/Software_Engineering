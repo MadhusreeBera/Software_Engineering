{
 "cells": [
  {
   "cell_type": "code",
   "execution_count": 1,
   "metadata": {},
   "outputs": [
    {
     "data": {
      "text/plain": [
       "True"
      ]
     },
     "execution_count": 1,
     "metadata": {},
     "output_type": "execute_result"
    }
   ],
   "source": [
    "from openai import OpenAI\n",
    "from github import Github\n",
    "import os\n",
    "from dotenv import load_dotenv\n",
    "\n",
    "load_dotenv()"
   ]
  },
  {
   "cell_type": "code",
   "execution_count": 2,
   "metadata": {},
   "outputs": [],
   "source": [
    "client = OpenAI(\n",
    "    api_key=os.getenv(\"GPT_KEY\"),\n",
    ")"
   ]
  },
  {
   "cell_type": "code",
   "execution_count": 3,
   "metadata": {},
   "outputs": [],
   "source": [
    "def detect_broken_hierarchy(code):\n",
    "    prompt = \"Broken Hierarchy smell arises when a supertype and its subtype conceptually do not share an IS-A relationship resulting in broken substitutability. Identify this smell in below code as the methods of super class are not used in sub class and also give the refactored version:\\n\" + code + \"\\n---\\n\"\n",
    "    try:\n",
    "        response = client.chat.completions.create(\n",
    "            model=\"gpt-3.5-turbo\",\n",
    "            messages=[{\"role\": \"user\", \"content\": prompt}]\n",
    "        )\n",
    "        return response\n",
    "    except Exception as e:\n",
    "        print(\"An error occurred:\", e)\n",
    "        return []"
   ]
  },
  {
   "cell_type": "code",
   "execution_count": 4,
   "metadata": {},
   "outputs": [],
   "source": [
    "# Read code sample from file\n",
    "file_path = \"../books-web/src/main/java/com/sismics/books/rest/resource/ThemeResource.java\"\n",
    "with open(file_path, \"r\") as file:\n",
    "    code_sample = file.read()"
   ]
  },
  {
   "cell_type": "code",
   "execution_count": 5,
   "metadata": {},
   "outputs": [],
   "source": [
    "t1 = detect_broken_hierarchy(code_sample)"
   ]
  },
  {
   "cell_type": "code",
   "execution_count": 6,
   "metadata": {},
   "outputs": [
    {
     "name": "stdout",
     "output_type": "stream",
     "text": [
      "ChatCompletion(id='chatcmpl-8vRJtQ8jKVOfCXwRjDbkukNVf8a9n', choices=[Choice(finish_reason='stop', index=0, logprobs=None, message=ChatCompletionMessage(content='In the given code, the ThemeResource class extends BaseResource but does not use any of its methods. This indicates a broken hierarchy smell.\\n\\nTo refactor the code and remove the broken hierarchy smell, we can remove the inheritance from BaseResource if it is not needed. If there are common methods that need to be shared between ThemeResource and other resources, those methods can be extracted into a separate class and used as a composition instead of inheritance.\\n\\nRefactored code:\\n```java\\npackage com.sismics.books.rest.resource;\\n\\nimport com.sismics.books.core.dao.file.theme.ThemeDao;\\nimport org.codehaus.jettison.json.JSONException;\\nimport org.codehaus.jettison.json.JSONObject;\\n\\nimport javax.ws.rs.GET;\\nimport javax.ws.rs.Path;\\nimport javax.ws.rs.Produces;\\nimport javax.ws.rs.core.MediaType;\\nimport javax.ws.rs.core.Response;\\nimport java.util.ArrayList;\\nimport java.util.List;\\n\\n/**\\n * Theme REST resources.\\n * \\n * @author jtremeaux\\n */\\n@Path(\"/theme\")\\npublic class ThemeResource {\\n    /**\\n     * Returns the list of all themes.\\n     * \\n     * @return Response\\n     * @throws JSONException\\n     */\\n    @GET\\n    @Produces(MediaType.APPLICATION_JSON)\\n    public Response list() throws JSONException {\\n        ThemeDao themeDao = new ThemeDao();\\n        List<String> themeList = themeDao.findAll();\\n        JSONObject response = new JSONObject();\\n        List<JSONObject> items = new ArrayList<>();\\n        for (String theme : themeList) {\\n            JSONObject item = new JSONObject();\\n            item.put(\"id\", theme);\\n            items.add(item);\\n        }\\n        response.put(\"themes\", items);\\n        return Response.ok().entity(response).build();\\n    }\\n}\\n```', role='assistant', function_call=None, tool_calls=None))], created=1708700405, model='gpt-3.5-turbo-0125', object='chat.completion', system_fingerprint='fp_cbdb91ce3f', usage=CompletionUsage(completion_tokens=343, prompt_tokens=312, total_tokens=655))\n"
     ]
    }
   ],
   "source": [
    "print(t1)"
   ]
  },
  {
   "cell_type": "code",
   "execution_count": 7,
   "metadata": {},
   "outputs": [
    {
     "name": "stdout",
     "output_type": "stream",
     "text": [
      "package com.sismics.books.rest.resource;\n",
      "\n",
      "import com.sismics.books.core.dao.file.theme.ThemeDao;\n",
      "import org.codehaus.jettison.json.JSONException;\n",
      "import org.codehaus.jettison.json.JSONObject;\n",
      "\n",
      "import javax.ws.rs.GET;\n",
      "import javax.ws.rs.Path;\n",
      "import javax.ws.rs.Produces;\n",
      "import javax.ws.rs.core.MediaType;\n",
      "import javax.ws.rs.core.Response;\n",
      "import java.util.ArrayList;\n",
      "import java.util.List;\n",
      "\n",
      "/**\n",
      " * Theme REST resources.\n",
      " * \n",
      " * @author jtremeaux\n",
      " */\n",
      "@Path(\"/theme\")\n",
      "public class ThemeResource {\n",
      "    /**\n",
      "     * Returns the list of all themes.\n",
      "     * \n",
      "     * @return Response\n",
      "     * @throws JSONException\n",
      "     */\n",
      "    @GET\n",
      "    @Produces(MediaType.APPLICATION_JSON)\n",
      "    public Response list() throws JSONException {\n",
      "        ThemeDao themeDao = new ThemeDao();\n",
      "        List<String> themeList = themeDao.findAll();\n",
      "        JSONObject response = new JSONObject();\n",
      "        List<JSONObject> items = new ArrayList<>();\n",
      "        for (String theme : themeList) {\n",
      "            JSONObject item = new JSONObject();\n",
      "            item.put(\"id\", theme);\n",
      "            items.add(item);\n",
      "        }\n",
      "        response.put(\"themes\", items);\n",
      "        return Response.ok().entity(response).build();\n",
      "    }\n",
      "}\n",
      "\n"
     ]
    }
   ],
   "source": [
    "refactored = (t1.choices[0].message.content).split(\"```\")[1][5:]\n",
    "print(refactored)"
   ]
  },
  {
   "cell_type": "code",
   "execution_count": 37,
   "metadata": {},
   "outputs": [],
   "source": [
    "new_file = open(file_path, \"w\")\n",
    "new_file.write(refactored)\n",
    "new_file.close()"
   ]
  },
  {
   "cell_type": "code",
   "execution_count": null,
   "metadata": {},
   "outputs": [],
   "source": [
    "github_token = os.getenv(\"GITHUB_TOKEN\")\n",
    "# print(github_token)\n",
    "\n",
    "github_repo = \"serc-courses/se-project-1--_23\"\n",
    "\n",
    "g = Github(github_token)\n",
    "repo = g.get_repo(github_repo)\n",
    "\n",
    "# Create a new branch\n",
    "branch_name = \"refactored_broken_hierarchy_ThemeResource\"\n",
    "repo.create_git_ref(ref='refs/heads/' + branch_name, sha=repo.get_branch(\"master\").commit.sha)"
   ]
  },
  {
   "cell_type": "code",
   "execution_count": 11,
   "metadata": {},
   "outputs": [
    {
     "name": "stdout",
     "output_type": "stream",
     "text": [
      "File '../books-web/src/main/java/com/sismics/books/rest/resource/ThemeResource.java' updated successfully.\n"
     ]
    }
   ],
   "source": [
    "new_file_path = \"books-web/src/main/java/com/sismics/books/rest/resource/ThemeResource.java\"\n",
    "file_content = refactored\n",
    "\n",
    "try:\n",
    "    # Check if the file already exists\n",
    "    file=repo.get_contents(new_file_path, ref=branch_name)\n",
    "    repo.update_file(new_file_path, f\"Update {new_file_path}\", file_content, file.sha, branch_name)\n",
    "    print(f\"File '{file_path}' updated successfully.\")\n",
    "except Exception as e:\n",
    "    # If the file does not exist, create it\n",
    "    repo.create_file(new_file_path, f\"Add {new_file_path}\", file_content, branch_name)\n",
    "    print(f\"File '{new_file_path}' added successfully.\")"
   ]
  },
  {
   "cell_type": "code",
   "execution_count": 12,
   "metadata": {},
   "outputs": [
    {
     "name": "stdout",
     "output_type": "stream",
     "text": [
      "Pull request created: https://github.com/serc-courses/se-project-1--_23/pull/24\n"
     ]
    }
   ],
   "source": [
    "pull_request = repo.create_pull(\n",
    "    title=\"Fixed Broken Hierarchy in ThemeResource.java\",\n",
    "    body=\"Solution given by ChatGPT\",\n",
    "    head=branch_name,\n",
    "    base=\"bonus\"\n",
    ")\n",
    "\n",
    "print(\"Pull request created:\", pull_request.html_url)"
   ]
  },
  {
   "cell_type": "code",
   "execution_count": null,
   "metadata": {},
   "outputs": [],
   "source": []
  }
 ],
 "metadata": {
  "kernelspec": {
   "display_name": "Python 3",
   "language": "python",
   "name": "python3"
  },
  "language_info": {
   "codemirror_mode": {
    "name": "ipython",
    "version": 3
   },
   "file_extension": ".py",
   "mimetype": "text/x-python",
   "name": "python",
   "nbconvert_exporter": "python",
   "pygments_lexer": "ipython3",
   "version": "3.7.3"
  }
 },
 "nbformat": 4,
 "nbformat_minor": 2
}
